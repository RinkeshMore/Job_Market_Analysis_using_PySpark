{
 "cells": [
  {
   "cell_type": "code",
   "execution_count": 2,
   "id": "bd88f6f9-d4d9-45f6-86f6-5e6de0249ad9",
   "metadata": {},
   "outputs": [],
   "source": [
    "import os\n",
    "import pandas as pd\n",
    "\n",
    "dataset_dir = r'final_datasets'\n",
    "\n",
    "# List all files in the directory\n",
    "file_names = os.listdir(dataset_dir)\n",
    "\n",
    "# Filter out only CSV files\n",
    "csv_file_names = [file for file in file_names if file.endswith('.csv')]\n",
    "\n",
    "dfs = []\n",
    "\n",
    "for file_name in csv_file_names:\n",
    "    file_path = os.path.join(dataset_dir, file_name)\n",
    "    df = pd.read_csv(file_path)\n",
    "    dfs.append(df)\n",
    "\n",
    "combined_df = pd.concat(dfs, ignore_index=True)\n",
    "\n",
    "output_path = r'combined_al.csv'\n",
    "combined_df.to_csv(output_path, index=False)\n"
   ]
  },
  {
   "cell_type": "code",
   "execution_count": 6,
   "id": "6a317fe5",
   "metadata": {},
   "outputs": [],
   "source": [
    "# file_names = ['android_developer_final.csv','automation_tester_final.csv','backend_developer_final.csv','big_data_engineer_final.csv', \n",
    "#               'big_data_developer_final.csv', 'blockchain_developer_final.csv', 'bussiness_analyst_final.csv', 'c++_developer_final.csv',\n",
    "#               'cloud_developer_final.csv', 'data_analyst_final.csv', 'data_engineer_final.csv', 'data_scientist_final.csv', 'devops_engineer_final.csv', \n",
    "#               'front_end_developer_final.csv', 'full_stack_developer_final.csv', 'java_developer_final.csv', 'machine_learning_engineer_final.csv', \n",
    "#               'manual_tester_final.csv', 'networking_engineer_final.csv', 'python_developer_final.csv',\n",
    "#               'salesforce_developer_final.csv', 'sap_final.csv', 'scala_developer_final.csv', 'software_test_engineer_final.csv',\n",
    "#               'sql_database_developer_final.csv', 'support_engineer_final.csv'] \n",
    "\n",
    "# dfs = []\n",
    "\n",
    "# for file_name in file_names:\n",
    "#     df = pd.read_csv(fr\"D:\\DBDA\\Projects\\project 1\\final_datasets\\{file_name}\")\n",
    "#     dfs.append(df)\n",
    "\n",
    "# combined_df = pd.concat(dfs, ignore_index=True)\n",
    "# combined_df.to_csv(r'D:\\DBDA\\Projects\\project 1\\combined_al.csv',index=False)\n"
   ]
  }
 ],
 "metadata": {
  "kernelspec": {
   "display_name": "Python 3 (ipykernel)",
   "language": "python",
   "name": "python3"
  },
  "language_info": {
   "codemirror_mode": {
    "name": "ipython",
    "version": 3
   },
   "file_extension": ".py",
   "mimetype": "text/x-python",
   "name": "python",
   "nbconvert_exporter": "python",
   "pygments_lexer": "ipython3",
   "version": "3.9.11"
  }
 },
 "nbformat": 4,
 "nbformat_minor": 5
}
